{
 "cells": [
  {
   "cell_type": "code",
   "execution_count": 1,
   "id": "bf27f09b",
   "metadata": {},
   "outputs": [],
   "source": [
    "# Import necessary libraries\n",
    "import numpy as np\n",
    "import pandas as pd\n",
    "import regex as re\n",
    "import nltk\n",
    "import matplotlib.pyplot as plt\n",
    "from nltk.tokenize import word_tokenize\n",
    "from nltk.corpus import stopwords\n",
    "from nltk.stem import WordNetLemmatizer\n",
    "from sklearn.model_selection import train_test_split\n",
    "from sklearn.feature_extraction.text import TfidfVectorizer\n",
    "from sklearn.linear_model import LogisticRegression\n",
    "from sklearn.naive_bayes import GaussianNB\n",
    "from sklearn.svm import SVC\n",
    "from sklearn.metrics import accuracy_score,classification_report\n",
    "from gensim.models import Word2Vec\n",
    "import warnings\n",
    "warnings.filterwarnings('ignore')"
   ]
  },
  {
   "cell_type": "code",
   "execution_count": 2,
   "id": "1152c0a5",
   "metadata": {},
   "outputs": [],
   "source": [
    "# Loading the dataset\n",
    "data = pd.read_csv('spam.csv',encoding=\"ISO-8859-1\")"
   ]
  },
  {
   "cell_type": "code",
   "execution_count": 3,
   "id": "e77023e1",
   "metadata": {},
   "outputs": [
    {
     "name": "stdout",
     "output_type": "stream",
     "text": [
      "<class 'pandas.core.frame.DataFrame'>\n",
      "RangeIndex: 5572 entries, 0 to 5571\n",
      "Data columns (total 5 columns):\n",
      " #   Column      Non-Null Count  Dtype \n",
      "---  ------      --------------  ----- \n",
      " 0   v1          5572 non-null   object\n",
      " 1   v2          5572 non-null   object\n",
      " 2   Unnamed: 2  50 non-null     object\n",
      " 3   Unnamed: 3  12 non-null     object\n",
      " 4   Unnamed: 4  6 non-null      object\n",
      "dtypes: object(5)\n",
      "memory usage: 217.8+ KB\n"
     ]
    }
   ],
   "source": [
    "data.info()"
   ]
  },
  {
   "cell_type": "code",
   "execution_count": 4,
   "id": "da24a467",
   "metadata": {},
   "outputs": [
    {
     "data": {
      "text/plain": [
       "v1               0\n",
       "v2               0\n",
       "Unnamed: 2    5522\n",
       "Unnamed: 3    5560\n",
       "Unnamed: 4    5566\n",
       "dtype: int64"
      ]
     },
     "execution_count": 4,
     "metadata": {},
     "output_type": "execute_result"
    }
   ],
   "source": [
    "# Check for null values\n",
    "data.isnull().sum()"
   ]
  },
  {
   "cell_type": "code",
   "execution_count": 5,
   "id": "41c05d42",
   "metadata": {},
   "outputs": [
    {
     "data": {
      "text/html": [
       "<div>\n",
       "<style scoped>\n",
       "    .dataframe tbody tr th:only-of-type {\n",
       "        vertical-align: middle;\n",
       "    }\n",
       "\n",
       "    .dataframe tbody tr th {\n",
       "        vertical-align: top;\n",
       "    }\n",
       "\n",
       "    .dataframe thead th {\n",
       "        text-align: right;\n",
       "    }\n",
       "</style>\n",
       "<table border=\"1\" class=\"dataframe\">\n",
       "  <thead>\n",
       "    <tr style=\"text-align: right;\">\n",
       "      <th></th>\n",
       "      <th>v1</th>\n",
       "      <th>v2</th>\n",
       "      <th>Unnamed: 2</th>\n",
       "      <th>Unnamed: 3</th>\n",
       "      <th>Unnamed: 4</th>\n",
       "    </tr>\n",
       "  </thead>\n",
       "  <tbody>\n",
       "    <tr>\n",
       "      <th>0</th>\n",
       "      <td>ham</td>\n",
       "      <td>Go until jurong point, crazy.. Available only ...</td>\n",
       "      <td>NaN</td>\n",
       "      <td>NaN</td>\n",
       "      <td>NaN</td>\n",
       "    </tr>\n",
       "    <tr>\n",
       "      <th>1</th>\n",
       "      <td>ham</td>\n",
       "      <td>Ok lar... Joking wif u oni...</td>\n",
       "      <td>NaN</td>\n",
       "      <td>NaN</td>\n",
       "      <td>NaN</td>\n",
       "    </tr>\n",
       "    <tr>\n",
       "      <th>2</th>\n",
       "      <td>spam</td>\n",
       "      <td>Free entry in 2 a wkly comp to win FA Cup fina...</td>\n",
       "      <td>NaN</td>\n",
       "      <td>NaN</td>\n",
       "      <td>NaN</td>\n",
       "    </tr>\n",
       "  </tbody>\n",
       "</table>\n",
       "</div>"
      ],
      "text/plain": [
       "     v1                                                 v2 Unnamed: 2  \\\n",
       "0   ham  Go until jurong point, crazy.. Available only ...        NaN   \n",
       "1   ham                      Ok lar... Joking wif u oni...        NaN   \n",
       "2  spam  Free entry in 2 a wkly comp to win FA Cup fina...        NaN   \n",
       "\n",
       "  Unnamed: 3 Unnamed: 4  \n",
       "0        NaN        NaN  \n",
       "1        NaN        NaN  \n",
       "2        NaN        NaN  "
      ]
     },
     "execution_count": 5,
     "metadata": {},
     "output_type": "execute_result"
    }
   ],
   "source": [
    "data.head(3)"
   ]
  },
  {
   "cell_type": "markdown",
   "id": "8c521f09",
   "metadata": {},
   "source": [
    "We use only the message description to classify it as spam or not. Hence, we drop other columns(they have high no of null values)"
   ]
  },
  {
   "cell_type": "code",
   "execution_count": 6,
   "id": "ab965baf",
   "metadata": {},
   "outputs": [],
   "source": [
    "# Drop columns with high null values\n",
    "data.drop(columns=['Unnamed: 2','Unnamed: 3','Unnamed: 4'],inplace=True)"
   ]
  },
  {
   "cell_type": "code",
   "execution_count": 7,
   "id": "a92e2be0",
   "metadata": {},
   "outputs": [],
   "source": [
    "# Rename the other columns\n",
    "data.rename(columns={'v1':'Class','v2':'Message'},inplace=True)"
   ]
  },
  {
   "cell_type": "code",
   "execution_count": 8,
   "id": "fc258272",
   "metadata": {},
   "outputs": [
    {
     "data": {
      "text/html": [
       "<div>\n",
       "<style scoped>\n",
       "    .dataframe tbody tr th:only-of-type {\n",
       "        vertical-align: middle;\n",
       "    }\n",
       "\n",
       "    .dataframe tbody tr th {\n",
       "        vertical-align: top;\n",
       "    }\n",
       "\n",
       "    .dataframe thead th {\n",
       "        text-align: right;\n",
       "    }\n",
       "</style>\n",
       "<table border=\"1\" class=\"dataframe\">\n",
       "  <thead>\n",
       "    <tr style=\"text-align: right;\">\n",
       "      <th></th>\n",
       "      <th>Message</th>\n",
       "      <th>Class</th>\n",
       "    </tr>\n",
       "  </thead>\n",
       "  <tbody>\n",
       "    <tr>\n",
       "      <th>0</th>\n",
       "      <td>Go until jurong point, crazy.. Available only ...</td>\n",
       "      <td>ham</td>\n",
       "    </tr>\n",
       "    <tr>\n",
       "      <th>1</th>\n",
       "      <td>Ok lar... Joking wif u oni...</td>\n",
       "      <td>ham</td>\n",
       "    </tr>\n",
       "    <tr>\n",
       "      <th>2</th>\n",
       "      <td>Free entry in 2 a wkly comp to win FA Cup fina...</td>\n",
       "      <td>spam</td>\n",
       "    </tr>\n",
       "  </tbody>\n",
       "</table>\n",
       "</div>"
      ],
      "text/plain": [
       "                                             Message Class\n",
       "0  Go until jurong point, crazy.. Available only ...   ham\n",
       "1                      Ok lar... Joking wif u oni...   ham\n",
       "2  Free entry in 2 a wkly comp to win FA Cup fina...  spam"
      ]
     },
     "execution_count": 8,
     "metadata": {},
     "output_type": "execute_result"
    }
   ],
   "source": [
    "# Reordering the columns in the dataset\n",
    "columns = ['Message','Class']\n",
    "data = data[columns]\n",
    "data.head(3)"
   ]
  },
  {
   "cell_type": "code",
   "execution_count": 9,
   "id": "3a7eb5ff",
   "metadata": {},
   "outputs": [
    {
     "data": {
      "text/plain": [
       "ham     4825\n",
       "spam     747\n",
       "Name: Class, dtype: int64"
      ]
     },
     "execution_count": 9,
     "metadata": {},
     "output_type": "execute_result"
    }
   ],
   "source": [
    "# Check the class distribution\n",
    "data['Class'].value_counts()"
   ]
  },
  {
   "cell_type": "code",
   "execution_count": 10,
   "id": "3bb8d3e3",
   "metadata": {},
   "outputs": [
    {
     "data": {
      "image/png": "[encoded data removed]",
      "text/plain": [
       "<Figure size 432x288 with 1 Axes>"
      ]
     },
     "metadata": {
      "needs_background": "light"
     },
     "output_type": "display_data"
    }
   ],
   "source": [
    "# Plotting the distribution\n",
    "plt.bar(data['Class'].unique(),data['Class'].value_counts(),width=0.2)\n",
    "plt.show()"
   ]
  },
  {
   "cell_type": "markdown",
   "id": "6bb91e46",
   "metadata": {},
   "source": [
    "#### Text preprocessing"
   ]
  },
  {
   "cell_type": "code",
   "execution_count": 11,
   "id": "e8b1ca9f",
   "metadata": {},
   "outputs": [],
   "source": [
    "def process_msg(msg):\n",
    "    # Convert to lowercase\n",
    "    msg = msg.lower() \n",
    "    # Remove username\n",
    "    msg = re.sub(r'@[A-Za-z0-9_.]+','',msg)\n",
    "    # Remove URLs\n",
    "    msg = re.sub(r'https?://\\S+|www\\.\\S+','',msg)\n",
    "    # Character normalization\n",
    "    msg = re.sub(r'([a-zA-Z])\\1{2,}','\\1',msg)\n",
    "    # Remove punctuations\n",
    "    msg = re.sub(r'[^\\w\\s]','',msg)\n",
    "    # Remove numbers\n",
    "    msg = re.sub(r'\\d+','',msg)\n",
    "    # Remove all the stopwords\n",
    "    english_stop = stopwords.words('english')\n",
    "    msg = ' '.join([word for word in msg.split() if word not in english_stop])\n",
    "    # Perform word tokenization\n",
    "    msg = word_tokenize(msg) # Takes a string, returns it as a list of words\n",
    "    # Perform lemmatization to find root word\n",
    "    lemmatizer = WordNetLemmatizer()\n",
    "    msg = ' '.join([lemmatizer.lemmatize(word) for word in msg])\n",
    "    return msg"
   ]
  },
  {
   "cell_type": "markdown",
   "id": "6d8538ac",
   "metadata": {},
   "source": [
    "#### Train Test Split"
   ]
  },
  {
   "cell_type": "code",
   "execution_count": 12,
   "id": "d83e5724",
   "metadata": {},
   "outputs": [],
   "source": [
    "# Splitting the data into target and dependent\n",
    "x_data = data.iloc[:,0].values\n",
    "y_data = data.iloc[:,-1].values"
   ]
  },
  {
   "cell_type": "code",
   "execution_count": 13,
   "id": "0bc3fd03",
   "metadata": {},
   "outputs": [],
   "source": [
    "# Preprocessing the text messages\n",
    "x_data = [process_msg(msg) for msg in x_data]\n",
    "# Representing the message as a list of words\n",
    "x_data_low = [msg.split() for msg in x_data]"
   ]
  },
  {
   "cell_type": "code",
   "execution_count": 14,
   "id": "9972728e",
   "metadata": {},
   "outputs": [],
   "source": [
    "# Splitting the data for training and testing\n",
    "# We apply stratified splitting of data as we have very few negative class samples(spam)\n",
    "x_train,x_test,y_train,y_test = train_test_split(x_data,y_data,test_size=0.3,stratify=y_data)"
   ]
  },
  {
   "cell_type": "code",
   "execution_count": 15,
   "id": "98d90955",
   "metadata": {},
   "outputs": [],
   "source": [
    "# Representing the message as a list of words\n",
    "x_train_low = [msg.split() for msg in x_train]\n",
    "x_test_low = [msg.split() for msg in x_test]"
   ]
  },
  {
   "cell_type": "markdown",
   "id": "3f19c271",
   "metadata": {},
   "source": [
    "#### Creating a vocabulary"
   ]
  },
  {
   "cell_type": "code",
   "execution_count": 16,
   "id": "a9143118",
   "metadata": {},
   "outputs": [],
   "source": [
    "vocab = []\n",
    "for msg in x_data_low:\n",
    "    for word in msg:\n",
    "        if word not in vocab:\n",
    "            vocab.append(word)"
   ]
  },
  {
   "cell_type": "code",
   "execution_count": 17,
   "id": "506012a7",
   "metadata": {},
   "outputs": [
    {
     "name": "stdout",
     "output_type": "stream",
     "text": [
      "Size of vocabulary:  7842\n"
     ]
    }
   ],
   "source": [
    "print(\"Size of vocabulary: \",len(vocab))"
   ]
  },
  {
   "cell_type": "markdown",
   "id": "814d7e79",
   "metadata": {},
   "source": [
    "#### Creating feature vectors using TF-IDF"
   ]
  },
  {
   "cell_type": "code",
   "execution_count": 18,
   "id": "2f972e11",
   "metadata": {},
   "outputs": [],
   "source": [
    "# Creating TF-IDF vectors\n",
    "tf_idf = TfidfVectorizer()\n",
    "train_vector = tf_idf.fit_transform(x_train)\n",
    "test_vector = tf_idf.transform(x_test)"
   ]
  },
  {
   "cell_type": "markdown",
   "id": "19d4c7ce",
   "metadata": {},
   "source": [
    "<b>Model Training using TF-IDF vector representations</b>"
   ]
  },
  {
   "cell_type": "markdown",
   "id": "7c6e1de5",
   "metadata": {},
   "source": [
    "#### Logistic Regression"
   ]
  },
  {
   "cell_type": "code",
   "execution_count": 19,
   "id": "235e84ea",
   "metadata": {},
   "outputs": [
    {
     "data": {
      "text/plain": [
       "LogisticRegression()"
      ]
     },
     "execution_count": 19,
     "metadata": {},
     "output_type": "execute_result"
    }
   ],
   "source": [
    "log_reg = LogisticRegression()\n",
    "log_reg.fit(train_vector,y_train)"
   ]
  },
  {
   "cell_type": "code",
   "execution_count": 20,
   "id": "ca398bde",
   "metadata": {},
   "outputs": [
    {
     "name": "stdout",
     "output_type": "stream",
     "text": [
      "Accuracy score:  0.96\n",
      "\n",
      "Classification Report:\n",
      "               precision    recall  f1-score   support\n",
      "\n",
      "         ham       0.96      1.00      0.98      3377\n",
      "        spam       0.99      0.75      0.85       523\n",
      "\n",
      "    accuracy                           0.96      3900\n",
      "   macro avg       0.97      0.87      0.92      3900\n",
      "weighted avg       0.97      0.96      0.96      3900\n",
      "\n"
     ]
    }
   ],
   "source": [
    "log_pred = log_reg.predict(train_vector)\n",
    "print(\"Accuracy score: \",round(accuracy_score(y_train,log_pred),2))\n",
    "print(\"\\nClassification Report:\\n\",classification_report(y_train,log_pred))"
   ]
  },
  {
   "cell_type": "markdown",
   "id": "85e4e06a",
   "metadata": {},
   "source": [
    "#### Naive Bayes"
   ]
  },
  {
   "cell_type": "code",
   "execution_count": 21,
   "id": "ebfedf74",
   "metadata": {},
   "outputs": [
    {
     "data": {
      "text/plain": [
       "GaussianNB()"
      ]
     },
     "execution_count": 21,
     "metadata": {},
     "output_type": "execute_result"
    }
   ],
   "source": [
    "nb = GaussianNB()\n",
    "nb.fit(train_vector.todense(),y_train)"
   ]
  },
  {
   "cell_type": "code",
   "execution_count": 22,
   "id": "b2df10ff",
   "metadata": {},
   "outputs": [
    {
     "name": "stdout",
     "output_type": "stream",
     "text": [
      "Accuracy score:  0.95\n",
      "\n",
      "Classification Report:\n",
      "               precision    recall  f1-score   support\n",
      "\n",
      "         ham       1.00      0.94      0.97      3377\n",
      "        spam       0.72      1.00      0.84       523\n",
      "\n",
      "    accuracy                           0.95      3900\n",
      "   macro avg       0.86      0.97      0.90      3900\n",
      "weighted avg       0.96      0.95      0.95      3900\n",
      "\n"
     ]
    }
   ],
   "source": [
    "nb_pred = nb.predict(train_vector.todense())\n",
    "print(\"Accuracy score: \",round(accuracy_score(y_train,nb_pred),2))\n",
    "print(\"\\nClassification Report:\\n\",classification_report(y_train,nb_pred))"
   ]
  },
  {
   "cell_type": "markdown",
   "id": "6e986e70",
   "metadata": {},
   "source": [
    "#### Support Vector Classifier"
   ]
  },
  {
   "cell_type": "code",
   "execution_count": 23,
   "id": "5e72959c",
   "metadata": {},
   "outputs": [
    {
     "data": {
      "text/plain": [
       "SVC()"
      ]
     },
     "execution_count": 23,
     "metadata": {},
     "output_type": "execute_result"
    }
   ],
   "source": [
    "svc = SVC()\n",
    "svc.fit(train_vector,y_train)"
   ]
  },
  {
   "cell_type": "code",
   "execution_count": 24,
   "id": "e05691b4",
   "metadata": {},
   "outputs": [
    {
     "name": "stdout",
     "output_type": "stream",
     "text": [
      "Accuracy score:  1.0\n",
      "\n",
      "Classification Report:\n",
      "               precision    recall  f1-score   support\n",
      "\n",
      "         ham       0.96      1.00      0.98      3377\n",
      "        spam       0.99      0.75      0.85       523\n",
      "\n",
      "    accuracy                           0.96      3900\n",
      "   macro avg       0.97      0.87      0.92      3900\n",
      "weighted avg       0.97      0.96      0.96      3900\n",
      "\n"
     ]
    }
   ],
   "source": [
    "svc_pred = svc.predict(train_vector)\n",
    "print(\"Accuracy score: \",round(accuracy_score(y_train,svc_pred),2))\n",
    "print(\"\\nClassification Report:\\n\",classification_report(y_train,log_pred))"
   ]
  },
  {
   "cell_type": "code",
   "execution_count": 25,
   "id": "e3e2f626",
   "metadata": {},
   "outputs": [
    {
     "data": {
      "text/html": [
       "<div>\n",
       "<style scoped>\n",
       "    .dataframe tbody tr th:only-of-type {\n",
       "        vertical-align: middle;\n",
       "    }\n",
       "\n",
       "    .dataframe tbody tr th {\n",
       "        vertical-align: top;\n",
       "    }\n",
       "\n",
       "    .dataframe thead th {\n",
       "        text-align: right;\n",
       "    }\n",
       "</style>\n",
       "<table border=\"1\" class=\"dataframe\">\n",
       "  <thead>\n",
       "    <tr style=\"text-align: right;\">\n",
       "      <th></th>\n",
       "      <th>Model</th>\n",
       "      <th>Accuracy</th>\n",
       "    </tr>\n",
       "  </thead>\n",
       "  <tbody>\n",
       "    <tr>\n",
       "      <th>0</th>\n",
       "      <td>Logistic Regression</td>\n",
       "      <td>96%</td>\n",
       "    </tr>\n",
       "    <tr>\n",
       "      <th>1</th>\n",
       "      <td>Naive Bayes</td>\n",
       "      <td>95%</td>\n",
       "    </tr>\n",
       "    <tr>\n",
       "      <th>2</th>\n",
       "      <td>SVC</td>\n",
       "      <td>100%</td>\n",
       "    </tr>\n",
       "  </tbody>\n",
       "</table>\n",
       "</div>"
      ],
      "text/plain": [
       "                 Model Accuracy\n",
       "0  Logistic Regression      96%\n",
       "1          Naive Bayes      95%\n",
       "2                  SVC     100%"
      ]
     },
     "execution_count": 25,
     "metadata": {},
     "output_type": "execute_result"
    }
   ],
   "source": [
    "# Performance on train data\n",
    "tfidf_result = {'Model':['Logistic Regression','Naive Bayes','SVC'],'Accuracy':['96%','95%','100%']}\n",
    "result_df = pd.DataFrame(tfidf_result)\n",
    "result_df"
   ]
  },
  {
   "cell_type": "markdown",
   "id": "20d9f4be",
   "metadata": {},
   "source": [
    "#### Creating word embeddings using Word2Vec"
   ]
  },
  {
   "cell_type": "code",
   "execution_count": 26,
   "id": "7a825b7c",
   "metadata": {},
   "outputs": [],
   "source": [
    "# Creating word embeddings using Word2Vec\n",
    "model = Word2Vec(sentences = x_train_low, vector_size = 100, workers = 5, window = 3, epochs = 5)"
   ]
  },
  {
   "cell_type": "code",
   "execution_count": 27,
   "id": "7e29c06b",
   "metadata": {},
   "outputs": [],
   "source": [
    "# List of words in the model's vocab \n",
    "words_in_model = model.wv.index_to_key"
   ]
  },
  {
   "cell_type": "code",
   "execution_count": 28,
   "id": "efe52d8c",
   "metadata": {},
   "outputs": [],
   "source": [
    "def word_in_vocab(sentence):\n",
    "    words = 0\n",
    "    total_words = len(sentence)\n",
    "    for word in sentence:\n",
    "        if word in words_in_model:\n",
    "            words += 1\n",
    "    if words != total_words:\n",
    "    # If all words are not present in vocab of the model, we create a numpy array of zeros of same dimension as the word vector\n",
    "        return False \n",
    "    else:\n",
    "        return True"
   ]
  },
  {
   "cell_type": "code",
   "execution_count": 29,
   "id": "64107f45",
   "metadata": {},
   "outputs": [],
   "source": [
    "train_wv = [model.wv[sentence].sum(axis = 0) if len(sentence) != 0 and word_in_vocab(sentence) else np.zeros((100)) for sentence in x_train_low]\n",
    "test_wv = [model.wv[sentence].sum(axis = 0) if len(sentence) != 0 and word_in_vocab(sentence) else np.zeros((100)) for sentence in x_test_low]"
   ]
  },
  {
   "cell_type": "markdown",
   "id": "0eed3670",
   "metadata": {},
   "source": [
    "<b>Model Training using Word2Vec word embeddings</b>"
   ]
  },
  {
   "cell_type": "markdown",
   "id": "1c5efe92",
   "metadata": {},
   "source": [
    "#### Logistic Regression"
   ]
  },
  {
   "cell_type": "code",
   "execution_count": 30,
   "id": "50eecd77",
   "metadata": {},
   "outputs": [
    {
     "data": {
      "text/plain": [
       "LogisticRegression()"
      ]
     },
     "execution_count": 30,
     "metadata": {},
     "output_type": "execute_result"
    }
   ],
   "source": [
    "log_r = LogisticRegression()\n",
    "log_r.fit(train_wv,y_train)"
   ]
  },
  {
   "cell_type": "code",
   "execution_count": 31,
   "id": "13fa9922",
   "metadata": {},
   "outputs": [
    {
     "name": "stdout",
     "output_type": "stream",
     "text": [
      "Accuracy score:  0.88\n",
      "\n",
      "Classification Report:\n",
      "               precision    recall  f1-score   support\n",
      "\n",
      "         ham       0.88      1.00      0.93      3377\n",
      "        spam       1.00      0.09      0.16       523\n",
      "\n",
      "    accuracy                           0.88      3900\n",
      "   macro avg       0.94      0.54      0.55      3900\n",
      "weighted avg       0.89      0.88      0.83      3900\n",
      "\n"
     ]
    }
   ],
   "source": [
    "log_p = log_r.predict(train_wv)\n",
    "print(\"Accuracy score: \",round(accuracy_score(y_train,log_p),2))\n",
    "print(\"\\nClassification Report:\\n\",classification_report(y_train,log_p))"
   ]
  },
  {
   "cell_type": "markdown",
   "id": "e4523bb7",
   "metadata": {},
   "source": [
    "#### Naive Bayes"
   ]
  },
  {
   "cell_type": "code",
   "execution_count": 32,
   "id": "c9e90579",
   "metadata": {},
   "outputs": [
    {
     "data": {
      "text/plain": [
       "GaussianNB()"
      ]
     },
     "execution_count": 32,
     "metadata": {},
     "output_type": "execute_result"
    }
   ],
   "source": [
    "nb = GaussianNB()\n",
    "nb.fit(train_wv,y_train)"
   ]
  },
  {
   "cell_type": "code",
   "execution_count": 33,
   "id": "9ee53304",
   "metadata": {},
   "outputs": [
    {
     "name": "stdout",
     "output_type": "stream",
     "text": [
      "Accuracy score:  0.79\n",
      "\n",
      "Classification Report:\n",
      "               precision    recall  f1-score   support\n",
      "\n",
      "         ham       0.88      0.89      0.88      3377\n",
      "        spam       0.20      0.18      0.19       523\n",
      "\n",
      "    accuracy                           0.79      3900\n",
      "   macro avg       0.54      0.53      0.54      3900\n",
      "weighted avg       0.78      0.79      0.79      3900\n",
      "\n"
     ]
    }
   ],
   "source": [
    "nb_p = nb.predict(train_wv)\n",
    "print(\"Accuracy score: \",round(accuracy_score(y_train,nb_p),2))\n",
    "print(\"\\nClassification Report:\\n\",classification_report(y_train,nb_p))"
   ]
  },
  {
   "cell_type": "markdown",
   "id": "5909f31e",
   "metadata": {},
   "source": [
    "#### Support Vector Classifier"
   ]
  },
  {
   "cell_type": "code",
   "execution_count": 34,
   "id": "a8d14d6d",
   "metadata": {},
   "outputs": [
    {
     "data": {
      "text/plain": [
       "SVC()"
      ]
     },
     "execution_count": 34,
     "metadata": {},
     "output_type": "execute_result"
    }
   ],
   "source": [
    "svc = SVC()\n",
    "svc.fit(train_wv,y_train)"
   ]
  },
  {
   "cell_type": "code",
   "execution_count": 35,
   "id": "29a4c903",
   "metadata": {},
   "outputs": [
    {
     "name": "stdout",
     "output_type": "stream",
     "text": [
      "Accuracy score:  0.87\n",
      "\n",
      "Classification Report:\n",
      "               precision    recall  f1-score   support\n",
      "\n",
      "         ham       0.88      0.99      0.93      3377\n",
      "        spam       0.75      0.10      0.17       523\n",
      "\n",
      "    accuracy                           0.87      3900\n",
      "   macro avg       0.81      0.55      0.55      3900\n",
      "weighted avg       0.86      0.87      0.83      3900\n",
      "\n"
     ]
    }
   ],
   "source": [
    "svc_p = svc.predict(train_wv)\n",
    "\n",
    "print(\"Accuracy score: \",round(accuracy_score(y_train,svc_p),2))\n",
    "\n",
    "print(\"\\nClassification Report:\\n\",classification_report(y_train,svc_p))"
   ]
  },
  {
   "cell_type": "code",
   "execution_count": 36,
   "id": "963f0129",
   "metadata": {},
   "outputs": [
    {
     "data": {
      "text/html": [
       "<div>\n",
       "<style scoped>\n",
       "    .dataframe tbody tr th:only-of-type {\n",
       "        vertical-align: middle;\n",
       "    }\n",
       "\n",
       "    .dataframe tbody tr th {\n",
       "        vertical-align: top;\n",
       "    }\n",
       "\n",
       "    .dataframe thead th {\n",
       "        text-align: right;\n",
       "    }\n",
       "</style>\n",
       "<table border=\"1\" class=\"dataframe\">\n",
       "  <thead>\n",
       "    <tr style=\"text-align: right;\">\n",
       "      <th></th>\n",
       "      <th>Model</th>\n",
       "      <th>Accuracy</th>\n",
       "    </tr>\n",
       "  </thead>\n",
       "  <tbody>\n",
       "    <tr>\n",
       "      <th>0</th>\n",
       "      <td>Logistic Regression</td>\n",
       "      <td>88%</td>\n",
       "    </tr>\n",
       "    <tr>\n",
       "      <th>1</th>\n",
       "      <td>Naive Bayes</td>\n",
       "      <td>79%</td>\n",
       "    </tr>\n",
       "    <tr>\n",
       "      <th>2</th>\n",
       "      <td>SVC</td>\n",
       "      <td>87%</td>\n",
       "    </tr>\n",
       "  </tbody>\n",
       "</table>\n",
       "</div>"
      ],
      "text/plain": [
       "                 Model Accuracy\n",
       "0  Logistic Regression      88%\n",
       "1          Naive Bayes      79%\n",
       "2                  SVC      87%"
      ]
     },
     "execution_count": 36,
     "metadata": {},
     "output_type": "execute_result"
    }
   ],
   "source": [
    "# Performance on train data\n",
    "\n",
    "w2v_result = {'Model':['Logistic Regression','Naive Bayes','SVC'],'Accuracy':['88%','79%','87%']}\n",
    "\n",
    "result_df = pd.DataFrame(w2v_result)\n",
    "\n",
    "result_df"
   ]
  },
  {
   "cell_type": "code",
   "execution_count": 37,
   "id": "5eb62837",
   "metadata": {},
   "outputs": [],
   "source": [
    "test_pred = log_reg.predict(test_vector) "
   ]
  },
  {
   "cell_type": "code",
   "execution_count": 38,
   "id": "8b948090",
   "metadata": {},
   "outputs": [
    {
     "name": "stdout",
     "output_type": "stream",
     "text": [
      "Accuracy score:  0.96\n",
      "\n",
      "Classification Report:\n",
      "               precision    recall  f1-score   support\n",
      "\n",
      "         ham       0.95      1.00      0.98      1448\n",
      "        spam       0.97      0.69      0.81       224\n",
      "\n",
      "    accuracy                           0.96      1672\n",
      "   macro avg       0.96      0.84      0.89      1672\n",
      "weighted avg       0.96      0.96      0.95      1672\n",
      "\n"
     ]
    }
   ],
   "source": [
    "print(\"Accuracy score: \",round(accuracy_score(test_pred,y_test),2))\n",
    "\n",
    "print(\"\\nClassification Report:\\n\",classification_report(y_test,test_pred))"
   ]
  }
 ],
 "metadata": {
  "kernelspec": {
   "display_name": "Python 3 (ipykernel)",
   "language": "python",
   "name": "python3"
  },
  "language_info": {
   "codemirror_mode": {
    "name": "ipython",
    "version": 3
   },
   "file_extension": ".py",
   "mimetype": "text/x-python",
   "name": "python",
   "nbconvert_exporter": "python",
   "pygments_lexer": "ipython3",
   "version": "3.11.9"
  }
 },
 "nbformat": 4,
 "nbformat_minor": 5
}
